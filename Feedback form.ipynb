{
 "cells": [
  {
   "cell_type": "code",
   "execution_count": 3,
   "id": "d96371bd",
   "metadata": {},
   "outputs": [
    {
     "name": "stdout",
     "output_type": "stream",
     "text": [
      "Name:viky\n",
      "Email:21254\n",
      "Comment:hlkj\n",
      "\n"
     ]
    }
   ],
   "source": [
    "from tkinter import *\n",
    "from tkinter import ttk\n",
    "from tkinter import messagebox\n",
    "\n",
    "root = Tk()\n",
    "frame_header = ttk.Frame(root)\n",
    "frame_header.pack()\n",
    "logo = PhotoImage(file='logo.gif').subsample(2, 2)\n",
    "logolabel = ttk.Label(frame_header, text='logo', image=logo)\n",
    "logolabel.grid(row=0, column=0, rowspan=2)\n",
    "headerlabel = ttk.Label(frame_header, text='CUSTOMER FEEDBACK \\n Powered by: Kashipara.com', foreground='lightgreen',\n",
    "                        font=('Arial', 24))\n",
    "headerlabel.grid(row=0, column=1)\n",
    "messagelabel = ttk.Label(frame_header,\n",
    "                         text='PLEASE SEND YOUR FEEDBACK',\n",
    "                         foreground='purple', font=('Arial', 10))\n",
    "messagelabel.grid(row=1, column=1)\n",
    "\n",
    "frame_content = ttk.Frame(root)\n",
    "frame_content.pack()\n",
    "# def submit():\n",
    "#     username = entry_name.get()\n",
    "#     print(username)\n",
    "myvar = StringVar()\n",
    "var = StringVar()\n",
    "# cmnt= StringVar()\n",
    "namelabel = ttk.Label(frame_content, text='Name')\n",
    "namelabel.grid(row=0, column=0, padx=5, sticky='sw')\n",
    "entry_name = ttk.Entry(frame_content, width=18, font=('Arial', 14), textvariable=myvar)\n",
    "entry_name.grid(row=1, column=0)\n",
    "\n",
    "emaillabel = ttk.Label(frame_content, text='Email')\n",
    "emaillabel.grid(row=0, column=1, sticky='sw')\n",
    "entry_email = ttk.Entry(frame_content, width=18, font=('Arial', 14), textvariable=var)\n",
    "entry_email.grid(row=1, column=1)\n",
    "\n",
    "commentlabel = ttk.Label(frame_content, text='Comment', font=('Arial', 10))\n",
    "commentlabel.grid(row=2, column=0, sticky='sw')\n",
    "textcomment = Text(frame_content, width=55, height=10)\n",
    "textcomment.grid(row=3, column=0, columnspan=2)\n",
    "\n",
    "\n",
    "textcomment.config(wrap ='word')\n",
    "# def clear():\n",
    "#     textcomment.delete(1.0,'end')\n",
    "def clear():\n",
    "    global entry_name\n",
    "    global entry_email\n",
    "    global textcomment\n",
    "    messagebox.showinfo(title='clear', message='Do you want to clear?')\n",
    "    entry_name.delete(0, END)\n",
    "    entry_email.delete(0, END)\n",
    "    textcomment.delete(1.0, END)\n",
    "\n",
    "\n",
    "def submit():\n",
    "    global entry_name\n",
    "    global entry_email\n",
    "    global textcomment\n",
    "    print('Name:{}'.format(myvar.get()))\n",
    "    print('Email:{}'.format(var.get()))\n",
    "    print('Comment:{}'.format(textcomment.get(1.0, END)))\n",
    "    messagebox.showinfo(title='Submit', message='Thank you for your Feedback, Your Comments Submited')\n",
    "    entry_name.delete(0, END)\n",
    "    entry_email.delete(0, END)\n",
    "    textcomment.delete(1.0, END)\n",
    "\n",
    "\n",
    "submitbutton = ttk.Button(frame_content, text='Submit', command=submit).grid(row=4, column=0, sticky='e')\n",
    "clearbutton = ttk.Button(frame_content, text='Clear', command=clear).grid(row=4, column=1, sticky='w')\n",
    "\n",
    "mainloop()"
   ]
  },
  {
   "cell_type": "code",
   "execution_count": null,
   "id": "f0c93795",
   "metadata": {},
   "outputs": [],
   "source": []
  }
 ],
 "metadata": {
  "kernelspec": {
   "display_name": "Python 3 (ipykernel)",
   "language": "python",
   "name": "python3"
  },
  "language_info": {
   "codemirror_mode": {
    "name": "ipython",
    "version": 3
   },
   "file_extension": ".py",
   "mimetype": "text/x-python",
   "name": "python",
   "nbconvert_exporter": "python",
   "pygments_lexer": "ipython3",
   "version": "3.10.5"
  }
 },
 "nbformat": 4,
 "nbformat_minor": 5
}
