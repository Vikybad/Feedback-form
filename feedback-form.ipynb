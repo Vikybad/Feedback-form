{
 "cells": [
  {
   "cell_type": "markdown",
   "id": "c5584413",
   "metadata": {},
   "source": [
    "## Feedback form using Tkinter"
   ]
  },
  {
   "cell_type": "markdown",
   "id": "7ce4e75f",
   "metadata": {},
   "source": [
    "Importing libraries and setting root variables"
   ]
  },
  {
   "cell_type": "code",
   "execution_count": 21,
   "id": "aff36e84",
   "metadata": {},
   "outputs": [],
   "source": [
    "from tkinter import *\n",
    "from tkinter import ttk\n",
    "from tkinter import messagebox\n",
    "\n",
    "root = Tk()\n",
    "frame_header = ttk.Frame(root)\n",
    "frame_header.pack()"
   ]
  },
  {
   "cell_type": "markdown",
   "id": "e443db30",
   "metadata": {},
   "source": [
    "Importing company Logo image"
   ]
  },
  {
   "cell_type": "code",
   "execution_count": 22,
   "id": "c79e3694",
   "metadata": {},
   "outputs": [],
   "source": [
    "logo = PhotoImage(file='logo.gif').subsample(2, 2)"
   ]
  },
  {
   "cell_type": "code",
   "execution_count": 23,
   "id": "f4c4d753",
   "metadata": {},
   "outputs": [],
   "source": [
    "logolabel = ttk.Label(frame_header, text='logo', image=logo)\n",
    "logolabel.grid(row=0, column=0, rowspan=2)\n",
    "headerlabel = ttk.Label(frame_header, text='CUSTOMER FEEDBACK \\n Powered by: Kashipara.com', foreground='lightgreen', font=('Arial', 24))"
   ]
  },
  {
   "cell_type": "code",
   "execution_count": 24,
   "id": "cf08f3f5",
   "metadata": {},
   "outputs": [],
   "source": [
    "headerlabel.grid(row=0, column=1)\n",
    "messagelabel = ttk.Label(frame_header,\n",
    "                         text='PLEASE SEND YOUR FEEDBACK',\n",
    "                         foreground='purple', font=('Arial', 10))\n",
    "messagelabel.grid(row=1, column=1)\n"
   ]
  },
  {
   "cell_type": "code",
   "execution_count": 25,
   "id": "6290b74e",
   "metadata": {},
   "outputs": [],
   "source": [
    "frame_content = ttk.Frame(root)\n",
    "frame_content.pack()\n",
    "# def submit():\n",
    "#     username = entry_name.get()\n",
    "#     print(username)\n",
    "myvar = StringVar()\n",
    "var = StringVar()\n",
    "# cmnt= StringVar()"
   ]
  },
  {
   "cell_type": "markdown",
   "id": "6cd7028a",
   "metadata": {},
   "source": [
    "Name box"
   ]
  },
  {
   "cell_type": "code",
   "execution_count": 26,
   "id": "957a1ee3",
   "metadata": {},
   "outputs": [],
   "source": [
    "namelabel = ttk.Label(frame_content, text='Name')\n",
    "namelabel.grid(row=0, column=0, padx=5, sticky='sw')\n",
    "entry_name = ttk.Entry(frame_content, width=18, font=('Arial', 14), textvariable=myvar)\n",
    "entry_name.grid(row=1, column=0)"
   ]
  },
  {
   "cell_type": "markdown",
   "id": "eb677d3b",
   "metadata": {},
   "source": [
    "Email Box"
   ]
  },
  {
   "cell_type": "code",
   "execution_count": 27,
   "id": "e7758204",
   "metadata": {},
   "outputs": [],
   "source": [
    "emaillabel = ttk.Label(frame_content, text='Email')\n",
    "emaillabel.grid(row=0, column=1, sticky='sw')\n",
    "entry_email = ttk.Entry(frame_content, width=18, font=('Arial', 14), textvariable=var)\n",
    "entry_email.grid(row=1, column=1)"
   ]
  },
  {
   "cell_type": "markdown",
   "id": "e87e277f",
   "metadata": {},
   "source": [
    "Comment Box"
   ]
  },
  {
   "cell_type": "code",
   "execution_count": 28,
   "id": "ca70319c",
   "metadata": {},
   "outputs": [],
   "source": [
    "commentlabel = ttk.Label(frame_content, text='Comment', font=('Arial', 10))\n",
    "commentlabel.grid(row=2, column=0, sticky='sw')\n",
    "textcomment = Text(frame_content, width=55, height=10)\n",
    "textcomment.grid(row=3, column=0, columnspan=2)"
   ]
  },
  {
   "cell_type": "markdown",
   "id": "75d4d80e",
   "metadata": {},
   "source": [
    "Reset Button"
   ]
  },
  {
   "cell_type": "code",
   "execution_count": 29,
   "id": "bcc09ba0",
   "metadata": {},
   "outputs": [],
   "source": [
    "textcomment.config(wrap ='word')\n",
    "# def clear():\n",
    "#     textcomment.delete(1.0,'end')\n",
    "def clear():\n",
    "    global entry_name\n",
    "    global entry_email\n",
    "    global textcomment\n",
    "    messagebox.showinfo(title='clear', message='Do you want to clear?')\n",
    "    entry_name.delete(0, END)\n",
    "    entry_email.delete(0, END)\n",
    "    textcomment.delete(1.0, END)"
   ]
  },
  {
   "cell_type": "markdown",
   "id": "6a2959d9",
   "metadata": {},
   "source": [
    "Submit Button"
   ]
  },
  {
   "cell_type": "code",
   "execution_count": 30,
   "id": "84e46114",
   "metadata": {},
   "outputs": [],
   "source": [
    "def submit():\n",
    "    global entry_name\n",
    "    global entry_email\n",
    "    global textcomment\n",
    "    print('Name:{}'.format(myvar.get()))\n",
    "    print('Email:{}'.format(var.get()))\n",
    "    print('Comment:{}'.format(textcomment.get(1.0, END)))\n",
    "    messagebox.showinfo(title='Submit', message='Thank you for your Feedback, Your Comments Submited')\n",
    "#     Every Box should be empty after \n",
    "    entry_name.delete(0, END)\n",
    "    entry_email.delete(0, END)\n",
    "    textcomment.delete(1.0, END)"
   ]
  },
  {
   "cell_type": "code",
   "execution_count": 31,
   "id": "37db16b1",
   "metadata": {},
   "outputs": [],
   "source": [
    "submitbutton = ttk.Button(frame_content, text='Submit', command=submit).grid(row=4, column=0, sticky='e')\n",
    "clearbutton = ttk.Button(frame_content, text='Clear', command=clear).grid(row=4, column=1, sticky='w')"
   ]
  },
  {
   "cell_type": "markdown",
   "id": "6e886808",
   "metadata": {},
   "source": [
    "Building the program"
   ]
  },
  {
   "cell_type": "code",
   "execution_count": 32,
   "id": "7087ef2c",
   "metadata": {},
   "outputs": [],
   "source": [
    "mainloop()"
   ]
  },
  {
   "cell_type": "code",
   "execution_count": null,
   "id": "1e9fdb6d",
   "metadata": {},
   "outputs": [],
   "source": []
  }
 ],
 "metadata": {
  "kernelspec": {
   "display_name": "Python 3.10.5 64-bit",
   "language": "python",
   "name": "python3"
  },
  "language_info": {
   "codemirror_mode": {
    "name": "ipython",
    "version": 3
   },
   "file_extension": ".py",
   "mimetype": "text/x-python",
   "name": "python",
   "nbconvert_exporter": "python",
   "pygments_lexer": "ipython3",
   "version": "3.10.5"
  },
  "vscode": {
   "interpreter": {
    "hash": "eebb5dec29856a20ea42c4eaeb8bd5a6e1b152026bafe95aed6284e3e58d027b"
   }
  }
 },
 "nbformat": 4,
 "nbformat_minor": 5
}
